{
 "cells": [
  {
   "cell_type": "code",
   "execution_count": 1,
   "metadata": {},
   "outputs": [],
   "source": [
    "import matplotlib.pyplot as plt\n",
    "import numpy as np\n",
    "import pandas as pd"
   ]
  },
  {
   "cell_type": "code",
   "execution_count": 2,
   "metadata": {},
   "outputs": [
    {
     "data": {
      "text/html": [
       "<div>\n",
       "<style scoped>\n",
       "    .dataframe tbody tr th:only-of-type {\n",
       "        vertical-align: middle;\n",
       "    }\n",
       "\n",
       "    .dataframe tbody tr th {\n",
       "        vertical-align: top;\n",
       "    }\n",
       "\n",
       "    .dataframe thead th {\n",
       "        text-align: right;\n",
       "    }\n",
       "</style>\n",
       "<table border=\"1\" class=\"dataframe\">\n",
       "  <thead>\n",
       "    <tr style=\"text-align: right;\">\n",
       "      <th></th>\n",
       "      <th>Year</th>\n",
       "      <th>Player</th>\n",
       "      <th>Pos</th>\n",
       "      <th>Age</th>\n",
       "      <th>Height</th>\n",
       "      <th>Weight</th>\n",
       "      <th>Tm</th>\n",
       "      <th>G</th>\n",
       "      <th>MP</th>\n",
       "      <th>PTS</th>\n",
       "      <th>...</th>\n",
       "      <th>FG%</th>\n",
       "      <th>3P</th>\n",
       "      <th>3PA</th>\n",
       "      <th>3P%</th>\n",
       "      <th>2P</th>\n",
       "      <th>2PA</th>\n",
       "      <th>2P%</th>\n",
       "      <th>FT</th>\n",
       "      <th>FTA</th>\n",
       "      <th>FT%</th>\n",
       "    </tr>\n",
       "  </thead>\n",
       "  <tbody>\n",
       "    <tr>\n",
       "      <th>0</th>\n",
       "      <td>1979.0</td>\n",
       "      <td>Kareem Abdul-Jabbar*</td>\n",
       "      <td>C</td>\n",
       "      <td>31.0</td>\n",
       "      <td>218.0</td>\n",
       "      <td>102.0</td>\n",
       "      <td>LAL</td>\n",
       "      <td>80.0</td>\n",
       "      <td>39.46</td>\n",
       "      <td>23.79</td>\n",
       "      <td>...</td>\n",
       "      <td>0.577</td>\n",
       "      <td>0.0</td>\n",
       "      <td>0.0</td>\n",
       "      <td>0.0</td>\n",
       "      <td>9.71</td>\n",
       "      <td>16.84</td>\n",
       "      <td>0.577</td>\n",
       "      <td>4.36</td>\n",
       "      <td>5.92</td>\n",
       "      <td>0.736</td>\n",
       "    </tr>\n",
       "    <tr>\n",
       "      <th>1</th>\n",
       "      <td>1979.0</td>\n",
       "      <td>Tom Abernethy</td>\n",
       "      <td>PF</td>\n",
       "      <td>24.0</td>\n",
       "      <td>201.0</td>\n",
       "      <td>99.0</td>\n",
       "      <td>GSW</td>\n",
       "      <td>70.0</td>\n",
       "      <td>17.41</td>\n",
       "      <td>6.03</td>\n",
       "      <td>...</td>\n",
       "      <td>0.515</td>\n",
       "      <td>0.0</td>\n",
       "      <td>0.0</td>\n",
       "      <td>0.0</td>\n",
       "      <td>2.51</td>\n",
       "      <td>4.89</td>\n",
       "      <td>0.515</td>\n",
       "      <td>1.00</td>\n",
       "      <td>1.34</td>\n",
       "      <td>0.745</td>\n",
       "    </tr>\n",
       "    <tr>\n",
       "      <th>2</th>\n",
       "      <td>1979.0</td>\n",
       "      <td>Alvan Adams</td>\n",
       "      <td>C</td>\n",
       "      <td>24.0</td>\n",
       "      <td>206.0</td>\n",
       "      <td>95.0</td>\n",
       "      <td>PHO</td>\n",
       "      <td>77.0</td>\n",
       "      <td>30.70</td>\n",
       "      <td>17.78</td>\n",
       "      <td>...</td>\n",
       "      <td>0.530</td>\n",
       "      <td>0.0</td>\n",
       "      <td>0.0</td>\n",
       "      <td>0.0</td>\n",
       "      <td>7.39</td>\n",
       "      <td>13.94</td>\n",
       "      <td>0.530</td>\n",
       "      <td>3.00</td>\n",
       "      <td>3.75</td>\n",
       "      <td>0.799</td>\n",
       "    </tr>\n",
       "    <tr>\n",
       "      <th>3</th>\n",
       "      <td>1979.0</td>\n",
       "      <td>Lucius Allen</td>\n",
       "      <td>PG</td>\n",
       "      <td>31.0</td>\n",
       "      <td>188.0</td>\n",
       "      <td>79.0</td>\n",
       "      <td>KCK</td>\n",
       "      <td>31.0</td>\n",
       "      <td>13.32</td>\n",
       "      <td>5.06</td>\n",
       "      <td>...</td>\n",
       "      <td>0.397</td>\n",
       "      <td>0.0</td>\n",
       "      <td>0.0</td>\n",
       "      <td>0.0</td>\n",
       "      <td>2.23</td>\n",
       "      <td>5.61</td>\n",
       "      <td>0.397</td>\n",
       "      <td>0.61</td>\n",
       "      <td>1.06</td>\n",
       "      <td>0.576</td>\n",
       "    </tr>\n",
       "    <tr>\n",
       "      <th>4</th>\n",
       "      <td>1979.0</td>\n",
       "      <td>Kim Anderson</td>\n",
       "      <td>SF</td>\n",
       "      <td>23.0</td>\n",
       "      <td>201.0</td>\n",
       "      <td>90.0</td>\n",
       "      <td>POR</td>\n",
       "      <td>21.0</td>\n",
       "      <td>10.67</td>\n",
       "      <td>3.00</td>\n",
       "      <td>...</td>\n",
       "      <td>0.312</td>\n",
       "      <td>0.0</td>\n",
       "      <td>0.0</td>\n",
       "      <td>0.0</td>\n",
       "      <td>1.14</td>\n",
       "      <td>3.67</td>\n",
       "      <td>0.312</td>\n",
       "      <td>0.71</td>\n",
       "      <td>1.33</td>\n",
       "      <td>0.536</td>\n",
       "    </tr>\n",
       "  </tbody>\n",
       "</table>\n",
       "<p>5 rows × 43 columns</p>\n",
       "</div>"
      ],
      "text/plain": [
       "     Year                Player Pos   Age  Height  Weight   Tm     G     MP  \\\n",
       "0  1979.0  Kareem Abdul-Jabbar*   C  31.0   218.0   102.0  LAL  80.0  39.46   \n",
       "1  1979.0         Tom Abernethy  PF  24.0   201.0    99.0  GSW  70.0  17.41   \n",
       "2  1979.0           Alvan Adams   C  24.0   206.0    95.0  PHO  77.0  30.70   \n",
       "3  1979.0          Lucius Allen  PG  31.0   188.0    79.0  KCK  31.0  13.32   \n",
       "4  1979.0          Kim Anderson  SF  23.0   201.0    90.0  POR  21.0  10.67   \n",
       "\n",
       "     PTS  ...    FG%   3P  3PA  3P%    2P    2PA    2P%    FT   FTA    FT%  \n",
       "0  23.79  ...  0.577  0.0  0.0  0.0  9.71  16.84  0.577  4.36  5.92  0.736  \n",
       "1   6.03  ...  0.515  0.0  0.0  0.0  2.51   4.89  0.515  1.00  1.34  0.745  \n",
       "2  17.78  ...  0.530  0.0  0.0  0.0  7.39  13.94  0.530  3.00  3.75  0.799  \n",
       "3   5.06  ...  0.397  0.0  0.0  0.0  2.23   5.61  0.397  0.61  1.06  0.576  \n",
       "4   3.00  ...  0.312  0.0  0.0  0.0  1.14   3.67  0.312  0.71  1.33  0.536  \n",
       "\n",
       "[5 rows x 43 columns]"
      ]
     },
     "execution_count": 2,
     "metadata": {},
     "output_type": "execute_result"
    }
   ],
   "source": [
    "bb_df = pd.read_csv(\"Resources/CleanHoopsData.csv\")\n",
    "bb_df.head()"
   ]
  },
  {
   "cell_type": "code",
   "execution_count": 3,
   "metadata": {},
   "outputs": [],
   "source": [
    "positions = bb_df['Pos'].map({'PG':1, 'SG':2, 'SF':3, 'PF':4,'C':5})"
   ]
  },
  {
   "cell_type": "code",
   "execution_count": 4,
   "metadata": {},
   "outputs": [
    {
     "data": {
      "text/html": [
       "<div>\n",
       "<style scoped>\n",
       "    .dataframe tbody tr th:only-of-type {\n",
       "        vertical-align: middle;\n",
       "    }\n",
       "\n",
       "    .dataframe tbody tr th {\n",
       "        vertical-align: top;\n",
       "    }\n",
       "\n",
       "    .dataframe thead th {\n",
       "        text-align: right;\n",
       "    }\n",
       "</style>\n",
       "<table border=\"1\" class=\"dataframe\">\n",
       "  <thead>\n",
       "    <tr style=\"text-align: right;\">\n",
       "      <th></th>\n",
       "      <th>Year</th>\n",
       "      <th>Age</th>\n",
       "      <th>Height</th>\n",
       "      <th>Weight</th>\n",
       "      <th>G</th>\n",
       "      <th>MP</th>\n",
       "      <th>PTS</th>\n",
       "      <th>AST</th>\n",
       "      <th>TRB</th>\n",
       "      <th>ORB</th>\n",
       "      <th>...</th>\n",
       "      <th>FG%</th>\n",
       "      <th>3P</th>\n",
       "      <th>3PA</th>\n",
       "      <th>3P%</th>\n",
       "      <th>2P</th>\n",
       "      <th>2PA</th>\n",
       "      <th>2P%</th>\n",
       "      <th>FT</th>\n",
       "      <th>FTA</th>\n",
       "      <th>FT%</th>\n",
       "    </tr>\n",
       "  </thead>\n",
       "  <tbody>\n",
       "    <tr>\n",
       "      <th>0</th>\n",
       "      <td>1979.0</td>\n",
       "      <td>31.0</td>\n",
       "      <td>218.0</td>\n",
       "      <td>102.0</td>\n",
       "      <td>80.0</td>\n",
       "      <td>39.46</td>\n",
       "      <td>23.79</td>\n",
       "      <td>5.39</td>\n",
       "      <td>12.81</td>\n",
       "      <td>2.59</td>\n",
       "      <td>...</td>\n",
       "      <td>0.577</td>\n",
       "      <td>0.0</td>\n",
       "      <td>0.0</td>\n",
       "      <td>0.0</td>\n",
       "      <td>9.71</td>\n",
       "      <td>16.84</td>\n",
       "      <td>0.577</td>\n",
       "      <td>4.36</td>\n",
       "      <td>5.92</td>\n",
       "      <td>0.736</td>\n",
       "    </tr>\n",
       "    <tr>\n",
       "      <th>1</th>\n",
       "      <td>1979.0</td>\n",
       "      <td>24.0</td>\n",
       "      <td>201.0</td>\n",
       "      <td>99.0</td>\n",
       "      <td>70.0</td>\n",
       "      <td>17.41</td>\n",
       "      <td>6.03</td>\n",
       "      <td>1.13</td>\n",
       "      <td>3.09</td>\n",
       "      <td>1.06</td>\n",
       "      <td>...</td>\n",
       "      <td>0.515</td>\n",
       "      <td>0.0</td>\n",
       "      <td>0.0</td>\n",
       "      <td>0.0</td>\n",
       "      <td>2.51</td>\n",
       "      <td>4.89</td>\n",
       "      <td>0.515</td>\n",
       "      <td>1.00</td>\n",
       "      <td>1.34</td>\n",
       "      <td>0.745</td>\n",
       "    </tr>\n",
       "    <tr>\n",
       "      <th>2</th>\n",
       "      <td>1979.0</td>\n",
       "      <td>24.0</td>\n",
       "      <td>206.0</td>\n",
       "      <td>95.0</td>\n",
       "      <td>77.0</td>\n",
       "      <td>30.70</td>\n",
       "      <td>17.78</td>\n",
       "      <td>4.68</td>\n",
       "      <td>9.16</td>\n",
       "      <td>2.86</td>\n",
       "      <td>...</td>\n",
       "      <td>0.530</td>\n",
       "      <td>0.0</td>\n",
       "      <td>0.0</td>\n",
       "      <td>0.0</td>\n",
       "      <td>7.39</td>\n",
       "      <td>13.94</td>\n",
       "      <td>0.530</td>\n",
       "      <td>3.00</td>\n",
       "      <td>3.75</td>\n",
       "      <td>0.799</td>\n",
       "    </tr>\n",
       "    <tr>\n",
       "      <th>3</th>\n",
       "      <td>1979.0</td>\n",
       "      <td>31.0</td>\n",
       "      <td>188.0</td>\n",
       "      <td>79.0</td>\n",
       "      <td>31.0</td>\n",
       "      <td>13.32</td>\n",
       "      <td>5.06</td>\n",
       "      <td>1.42</td>\n",
       "      <td>1.48</td>\n",
       "      <td>0.45</td>\n",
       "      <td>...</td>\n",
       "      <td>0.397</td>\n",
       "      <td>0.0</td>\n",
       "      <td>0.0</td>\n",
       "      <td>0.0</td>\n",
       "      <td>2.23</td>\n",
       "      <td>5.61</td>\n",
       "      <td>0.397</td>\n",
       "      <td>0.61</td>\n",
       "      <td>1.06</td>\n",
       "      <td>0.576</td>\n",
       "    </tr>\n",
       "    <tr>\n",
       "      <th>4</th>\n",
       "      <td>1979.0</td>\n",
       "      <td>23.0</td>\n",
       "      <td>201.0</td>\n",
       "      <td>90.0</td>\n",
       "      <td>21.0</td>\n",
       "      <td>10.67</td>\n",
       "      <td>3.00</td>\n",
       "      <td>0.71</td>\n",
       "      <td>2.14</td>\n",
       "      <td>0.81</td>\n",
       "      <td>...</td>\n",
       "      <td>0.312</td>\n",
       "      <td>0.0</td>\n",
       "      <td>0.0</td>\n",
       "      <td>0.0</td>\n",
       "      <td>1.14</td>\n",
       "      <td>3.67</td>\n",
       "      <td>0.312</td>\n",
       "      <td>0.71</td>\n",
       "      <td>1.33</td>\n",
       "      <td>0.536</td>\n",
       "    </tr>\n",
       "  </tbody>\n",
       "</table>\n",
       "<p>5 rows × 40 columns</p>\n",
       "</div>"
      ],
      "text/plain": [
       "     Year   Age  Height  Weight     G     MP    PTS   AST    TRB   ORB  ...  \\\n",
       "0  1979.0  31.0   218.0   102.0  80.0  39.46  23.79  5.39  12.81  2.59  ...   \n",
       "1  1979.0  24.0   201.0    99.0  70.0  17.41   6.03  1.13   3.09  1.06  ...   \n",
       "2  1979.0  24.0   206.0    95.0  77.0  30.70  17.78  4.68   9.16  2.86  ...   \n",
       "3  1979.0  31.0   188.0    79.0  31.0  13.32   5.06  1.42   1.48  0.45  ...   \n",
       "4  1979.0  23.0   201.0    90.0  21.0  10.67   3.00  0.71   2.14  0.81  ...   \n",
       "\n",
       "     FG%   3P  3PA  3P%    2P    2PA    2P%    FT   FTA    FT%  \n",
       "0  0.577  0.0  0.0  0.0  9.71  16.84  0.577  4.36  5.92  0.736  \n",
       "1  0.515  0.0  0.0  0.0  2.51   4.89  0.515  1.00  1.34  0.745  \n",
       "2  0.530  0.0  0.0  0.0  7.39  13.94  0.530  3.00  3.75  0.799  \n",
       "3  0.397  0.0  0.0  0.0  2.23   5.61  0.397  0.61  1.06  0.576  \n",
       "4  0.312  0.0  0.0  0.0  1.14   3.67  0.312  0.71  1.33  0.536  \n",
       "\n",
       "[5 rows x 40 columns]"
      ]
     },
     "execution_count": 4,
     "metadata": {},
     "output_type": "execute_result"
    }
   ],
   "source": [
    "data = bb_df.drop(['Tm','Player','Pos'], axis=1)\n",
    "feature_names = data.columns\n",
    "data.head()"
   ]
  },
  {
   "cell_type": "code",
   "execution_count": 5,
   "metadata": {},
   "outputs": [
    {
     "data": {
      "text/html": [
       "<div>\n",
       "<style scoped>\n",
       "    .dataframe tbody tr th:only-of-type {\n",
       "        vertical-align: middle;\n",
       "    }\n",
       "\n",
       "    .dataframe tbody tr th {\n",
       "        vertical-align: top;\n",
       "    }\n",
       "\n",
       "    .dataframe thead th {\n",
       "        text-align: right;\n",
       "    }\n",
       "</style>\n",
       "<table border=\"1\" class=\"dataframe\">\n",
       "  <thead>\n",
       "    <tr style=\"text-align: right;\">\n",
       "      <th></th>\n",
       "      <th>Year</th>\n",
       "      <th>Age</th>\n",
       "      <th>Height</th>\n",
       "      <th>Weight</th>\n",
       "      <th>G</th>\n",
       "      <th>MP</th>\n",
       "      <th>PTS</th>\n",
       "      <th>AST</th>\n",
       "      <th>TRB</th>\n",
       "      <th>ORB</th>\n",
       "      <th>...</th>\n",
       "      <th>FG%</th>\n",
       "      <th>3P</th>\n",
       "      <th>3PA</th>\n",
       "      <th>3P%</th>\n",
       "      <th>2P</th>\n",
       "      <th>2PA</th>\n",
       "      <th>2P%</th>\n",
       "      <th>FT</th>\n",
       "      <th>FTA</th>\n",
       "      <th>FT%</th>\n",
       "    </tr>\n",
       "  </thead>\n",
       "  <tbody>\n",
       "    <tr>\n",
       "      <th>0</th>\n",
       "      <td>1.0</td>\n",
       "      <td>31.0</td>\n",
       "      <td>218.0</td>\n",
       "      <td>102.0</td>\n",
       "      <td>80.0</td>\n",
       "      <td>39.46</td>\n",
       "      <td>23.79</td>\n",
       "      <td>5.39</td>\n",
       "      <td>12.81</td>\n",
       "      <td>2.59</td>\n",
       "      <td>...</td>\n",
       "      <td>0.577</td>\n",
       "      <td>0.0</td>\n",
       "      <td>0.0</td>\n",
       "      <td>0.0</td>\n",
       "      <td>9.71</td>\n",
       "      <td>16.84</td>\n",
       "      <td>0.577</td>\n",
       "      <td>4.36</td>\n",
       "      <td>5.92</td>\n",
       "      <td>0.736</td>\n",
       "    </tr>\n",
       "    <tr>\n",
       "      <th>1</th>\n",
       "      <td>1.0</td>\n",
       "      <td>24.0</td>\n",
       "      <td>201.0</td>\n",
       "      <td>99.0</td>\n",
       "      <td>70.0</td>\n",
       "      <td>17.41</td>\n",
       "      <td>6.03</td>\n",
       "      <td>1.13</td>\n",
       "      <td>3.09</td>\n",
       "      <td>1.06</td>\n",
       "      <td>...</td>\n",
       "      <td>0.515</td>\n",
       "      <td>0.0</td>\n",
       "      <td>0.0</td>\n",
       "      <td>0.0</td>\n",
       "      <td>2.51</td>\n",
       "      <td>4.89</td>\n",
       "      <td>0.515</td>\n",
       "      <td>1.00</td>\n",
       "      <td>1.34</td>\n",
       "      <td>0.745</td>\n",
       "    </tr>\n",
       "    <tr>\n",
       "      <th>2</th>\n",
       "      <td>1.0</td>\n",
       "      <td>24.0</td>\n",
       "      <td>206.0</td>\n",
       "      <td>95.0</td>\n",
       "      <td>77.0</td>\n",
       "      <td>30.70</td>\n",
       "      <td>17.78</td>\n",
       "      <td>4.68</td>\n",
       "      <td>9.16</td>\n",
       "      <td>2.86</td>\n",
       "      <td>...</td>\n",
       "      <td>0.530</td>\n",
       "      <td>0.0</td>\n",
       "      <td>0.0</td>\n",
       "      <td>0.0</td>\n",
       "      <td>7.39</td>\n",
       "      <td>13.94</td>\n",
       "      <td>0.530</td>\n",
       "      <td>3.00</td>\n",
       "      <td>3.75</td>\n",
       "      <td>0.799</td>\n",
       "    </tr>\n",
       "    <tr>\n",
       "      <th>3</th>\n",
       "      <td>1.0</td>\n",
       "      <td>31.0</td>\n",
       "      <td>188.0</td>\n",
       "      <td>79.0</td>\n",
       "      <td>31.0</td>\n",
       "      <td>13.32</td>\n",
       "      <td>5.06</td>\n",
       "      <td>1.42</td>\n",
       "      <td>1.48</td>\n",
       "      <td>0.45</td>\n",
       "      <td>...</td>\n",
       "      <td>0.397</td>\n",
       "      <td>0.0</td>\n",
       "      <td>0.0</td>\n",
       "      <td>0.0</td>\n",
       "      <td>2.23</td>\n",
       "      <td>5.61</td>\n",
       "      <td>0.397</td>\n",
       "      <td>0.61</td>\n",
       "      <td>1.06</td>\n",
       "      <td>0.576</td>\n",
       "    </tr>\n",
       "    <tr>\n",
       "      <th>4</th>\n",
       "      <td>1.0</td>\n",
       "      <td>23.0</td>\n",
       "      <td>201.0</td>\n",
       "      <td>90.0</td>\n",
       "      <td>21.0</td>\n",
       "      <td>10.67</td>\n",
       "      <td>3.00</td>\n",
       "      <td>0.71</td>\n",
       "      <td>2.14</td>\n",
       "      <td>0.81</td>\n",
       "      <td>...</td>\n",
       "      <td>0.312</td>\n",
       "      <td>0.0</td>\n",
       "      <td>0.0</td>\n",
       "      <td>0.0</td>\n",
       "      <td>1.14</td>\n",
       "      <td>3.67</td>\n",
       "      <td>0.312</td>\n",
       "      <td>0.71</td>\n",
       "      <td>1.33</td>\n",
       "      <td>0.536</td>\n",
       "    </tr>\n",
       "  </tbody>\n",
       "</table>\n",
       "<p>5 rows × 40 columns</p>\n",
       "</div>"
      ],
      "text/plain": [
       "   Year   Age  Height  Weight     G     MP    PTS   AST    TRB   ORB  ...  \\\n",
       "0   1.0  31.0   218.0   102.0  80.0  39.46  23.79  5.39  12.81  2.59  ...   \n",
       "1   1.0  24.0   201.0    99.0  70.0  17.41   6.03  1.13   3.09  1.06  ...   \n",
       "2   1.0  24.0   206.0    95.0  77.0  30.70  17.78  4.68   9.16  2.86  ...   \n",
       "3   1.0  31.0   188.0    79.0  31.0  13.32   5.06  1.42   1.48  0.45  ...   \n",
       "4   1.0  23.0   201.0    90.0  21.0  10.67   3.00  0.71   2.14  0.81  ...   \n",
       "\n",
       "     FG%   3P  3PA  3P%    2P    2PA    2P%    FT   FTA    FT%  \n",
       "0  0.577  0.0  0.0  0.0  9.71  16.84  0.577  4.36  5.92  0.736  \n",
       "1  0.515  0.0  0.0  0.0  2.51   4.89  0.515  1.00  1.34  0.745  \n",
       "2  0.530  0.0  0.0  0.0  7.39  13.94  0.530  3.00  3.75  0.799  \n",
       "3  0.397  0.0  0.0  0.0  2.23   5.61  0.397  0.61  1.06  0.576  \n",
       "4  0.312  0.0  0.0  0.0  1.14   3.67  0.312  0.71  1.33  0.536  \n",
       "\n",
       "[5 rows x 40 columns]"
      ]
     },
     "execution_count": 5,
     "metadata": {},
     "output_type": "execute_result"
    }
   ],
   "source": [
    "data['Year'] = data['Year'] - 1978\n",
    "data.head()"
   ]
  },
  {
   "cell_type": "code",
   "execution_count": 6,
   "metadata": {},
   "outputs": [],
   "source": [
    "from sklearn import preprocessing as p\n",
    "\n",
    "df_columns = data.columns\n",
    "\n",
    "df_ss = p.StandardScaler().fit_transform(data)\n",
    "df_ss = pd.DataFrame(df_ss, columns = df_columns)"
   ]
  },
  {
   "cell_type": "code",
   "execution_count": 7,
   "metadata": {},
   "outputs": [],
   "source": [
    "from sklearn.cluster import MiniBatchKMeans\n",
    "kmeans = MiniBatchKMeans(n_clusters=3)"
   ]
  },
  {
   "cell_type": "code",
   "execution_count": 8,
   "metadata": {},
   "outputs": [
    {
     "data": {
      "text/plain": [
       "MiniBatchKMeans(batch_size=100, compute_labels=True, init='k-means++',\n",
       "                init_size=None, max_iter=100, max_no_improvement=10,\n",
       "                n_clusters=3, n_init=3, random_state=None,\n",
       "                reassignment_ratio=0.01, tol=0.0, verbose=0)"
      ]
     },
     "execution_count": 8,
     "metadata": {},
     "output_type": "execute_result"
    }
   ],
   "source": [
    "kmeans.fit(df_ss)"
   ]
  },
  {
   "cell_type": "code",
   "execution_count": 9,
   "metadata": {},
   "outputs": [],
   "source": [
    "predicted_clusters = kmeans.predict(data)"
   ]
  },
  {
   "cell_type": "code",
   "execution_count": 10,
   "metadata": {},
   "outputs": [],
   "source": [
    "centers = kmeans.cluster_centers_\n",
    "labels = kmeans.labels_"
   ]
  },
  {
   "cell_type": "code",
   "execution_count": 11,
   "metadata": {},
   "outputs": [
    {
     "name": "stdout",
     "output_type": "stream",
     "text": [
      "Cluster 0: 5402\n",
      "Cluster 1: 6616\n",
      "Cluster 2: 7248\n"
     ]
    }
   ],
   "source": [
    "print(f'Cluster 0: {np.count_nonzero(labels==0)}')\n",
    "print(f'Cluster 1: {np.count_nonzero(labels==1)}')\n",
    "print(f'Cluster 2: {np.count_nonzero(labels==2)}')"
   ]
  },
  {
   "cell_type": "code",
   "execution_count": 12,
   "metadata": {},
   "outputs": [
    {
     "data": {
      "text/plain": [
       "([<matplotlib.axis.XTick at 0x22065f435f8>,\n",
       "  <matplotlib.axis.XTick at 0x22065f23ef0>,\n",
       "  <matplotlib.axis.XTick at 0x22065f235f8>,\n",
       "  <matplotlib.axis.XTick at 0x22065f836d8>],\n",
       " <a list of 4 Text xticklabel objects>)"
      ]
     },
     "execution_count": 12,
     "metadata": {},
     "output_type": "execute_result"
    },
    {
     "data": {
      "image/png": "[encoded data removed]",
      "text/plain": [
       "<Figure size 432x288 with 1 Axes>"
      ]
     },
     "metadata": {
      "needs_background": "light"
     },
     "output_type": "display_data"
    }
   ],
   "source": [
    "plt.scatter(labels, data['PER'], edgecolors='black', alpha=0.5)\n",
    "plt.grid(axis='both', which='major')\n",
    "plt.title('Player Efficiency Rating by Cluster')\n",
    "plt.xlabel('Cluster')\n",
    "plt.ylabel('Player Effiency Rating')\n",
    "plt.xticks(np.arange(-1, 3, step=1))"
   ]
  },
  {
   "cell_type": "code",
   "execution_count": 13,
   "metadata": {},
   "outputs": [
    {
     "data": {
      "image/png": "[encoded data removed]",
      "text/plain": [
       "<Figure size 432x288 with 1 Axes>"
      ]
     },
     "metadata": {
      "needs_background": "light"
     },
     "output_type": "display_data"
    }
   ],
   "source": [
    "plt.scatter(labels, data['VORP'], edgecolors='black', alpha=0.5)\n",
    "plt.grid(axis='both', which='major')\n",
    "plt.title('Value Over Replacement by Cluster')\n",
    "plt.xlabel('Cluster')\n",
    "plt.ylabel('Value Over Replacement')\n",
    "plt.xticks(np.arange(-1, 3, step=1))\n",
    "plt.savefig('static/images/VORPVis.png')"
   ]
  },
  {
   "cell_type": "code",
   "execution_count": 14,
   "metadata": {},
   "outputs": [
    {
     "data": {
      "text/plain": [
       "([<matplotlib.axis.XTick at 0x22066069e48>,\n",
       "  <matplotlib.axis.XTick at 0x22066069940>,\n",
       "  <matplotlib.axis.XTick at 0x220660696a0>,\n",
       "  <matplotlib.axis.XTick at 0x22066087f28>],\n",
       " <a list of 4 Text xticklabel objects>)"
      ]
     },
     "execution_count": 14,
     "metadata": {},
     "output_type": "execute_result"
    },
    {
     "data": {
      "image/png": "[encoded data removed]",
      "text/plain": [
       "<Figure size 432x288 with 1 Axes>"
      ]
     },
     "metadata": {
      "needs_background": "light"
     },
     "output_type": "display_data"
    }
   ],
   "source": [
    "plt.scatter(labels, data['MP'], edgecolors='black', alpha=0.5)\n",
    "plt.grid(axis='both', which='major')\n",
    "plt.title('Minutes Played by Cluster')\n",
    "plt.xlabel('Cluster')\n",
    "plt.ylabel('Minutes per Game')\n",
    "plt.xticks(np.arange(-1, 3, step=1))"
   ]
  },
  {
   "cell_type": "code",
   "execution_count": 15,
   "metadata": {},
   "outputs": [
    {
     "data": {
      "text/plain": [
       "([<matplotlib.axis.XTick at 0x220660bcac8>,\n",
       "  <matplotlib.axis.XTick at 0x220660a4208>,\n",
       "  <matplotlib.axis.XTick at 0x22065fc4630>,\n",
       "  <matplotlib.axis.XTick at 0x220660ed588>],\n",
       " <a list of 4 Text xticklabel objects>)"
      ]
     },
     "execution_count": 15,
     "metadata": {},
     "output_type": "execute_result"
    },
    {
     "data": {
      "image/png": "[encoded data removed]",
      "text/plain": [
       "<Figure size 432x288 with 1 Axes>"
      ]
     },
     "metadata": {
      "needs_background": "light"
     },
     "output_type": "display_data"
    }
   ],
   "source": [
    "plt.scatter(labels, data['G'], edgecolors='black', alpha=0.5)\n",
    "plt.grid(axis='both', which='major')\n",
    "plt.title('Games Played by Cluster')\n",
    "plt.xlabel('Cluster')\n",
    "plt.ylabel('Games Played')\n",
    "plt.xticks(np.arange(-1, 3, step=1))"
   ]
  },
  {
   "cell_type": "code",
   "execution_count": 16,
   "metadata": {},
   "outputs": [
    {
     "data": {
      "image/png": "[encoded data removed]",
      "text/plain": [
       "<Figure size 432x288 with 1 Axes>"
      ]
     },
     "metadata": {
      "needs_background": "light"
     },
     "output_type": "display_data"
    }
   ],
   "source": [
    "plt.scatter(labels, data['BPM'], edgecolors='black', alpha=0.5)\n",
    "plt.grid(axis='both', which='major')\n",
    "plt.title('Box Plus-minus by Cluster')\n",
    "plt.xlabel('Cluster')\n",
    "plt.ylabel('Box Plus-minus')\n",
    "plt.xticks(np.arange(-1, 3, step=1))\n",
    "plt.savefig('static/images/BPM2Vis.png')"
   ]
  }
 ],
 "metadata": {
  "kernelspec": {
   "display_name": "Python 3",
   "language": "python",
   "name": "python3"
  },
  "language_info": {
   "codemirror_mode": {
    "name": "ipython",
    "version": 3
   },
   "file_extension": ".py",
   "mimetype": "text/x-python",
   "name": "python",
   "nbconvert_exporter": "python",
   "pygments_lexer": "ipython3",
   "version": "3.7.3"
  }
 },
 "nbformat": 4,
 "nbformat_minor": 2
}
